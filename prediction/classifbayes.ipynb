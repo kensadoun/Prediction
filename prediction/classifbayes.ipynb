{
 "cells": [
  {
   "cell_type": "code",
   "execution_count": 1,
   "id": "8bc04646-424d-4df2-b578-81b30f214cbb",
   "metadata": {},
   "outputs": [],
   "source": [
    "import pandas as pd \n",
    "import numpy as np\n",
    "import seaborn as sn\n",
    "import matplotlib.pyplot as plt"
   ]
  },
  {
   "cell_type": "code",
   "execution_count": 2,
   "id": "cb67f2ee-17ea-4224-83ec-61a998daa64e",
   "metadata": {},
   "outputs": [
    {
     "data": {
      "text/html": [
       "<div>\n",
       "<style scoped>\n",
       "    .dataframe tbody tr th:only-of-type {\n",
       "        vertical-align: middle;\n",
       "    }\n",
       "\n",
       "    .dataframe tbody tr th {\n",
       "        vertical-align: top;\n",
       "    }\n",
       "\n",
       "    .dataframe thead th {\n",
       "        text-align: right;\n",
       "    }\n",
       "</style>\n",
       "<table border=\"1\" class=\"dataframe\">\n",
       "  <thead>\n",
       "    <tr style=\"text-align: right;\">\n",
       "      <th></th>\n",
       "      <th>Partner</th>\n",
       "      <th>Dependents</th>\n",
       "      <th>OnlineSecurity</th>\n",
       "      <th>DeviceProtection</th>\n",
       "      <th>TechSupport</th>\n",
       "      <th>StreamingTV</th>\n",
       "      <th>StreamingMovies</th>\n",
       "      <th>Contract</th>\n",
       "      <th>PaperlessBilling</th>\n",
       "      <th>PaymentMethod</th>\n",
       "      <th>SeniorCitizen</th>\n",
       "      <th>tenure</th>\n",
       "      <th>MonthlyCharges</th>\n",
       "      <th>TotalCharges</th>\n",
       "      <th>Churn</th>\n",
       "    </tr>\n",
       "  </thead>\n",
       "  <tbody>\n",
       "    <tr>\n",
       "      <th>0</th>\n",
       "      <td>0.0</td>\n",
       "      <td>0.0</td>\n",
       "      <td>0.0</td>\n",
       "      <td>0.0</td>\n",
       "      <td>0.0</td>\n",
       "      <td>0.0</td>\n",
       "      <td>0.0</td>\n",
       "      <td>0.0</td>\n",
       "      <td>0.0</td>\n",
       "      <td>0.0</td>\n",
       "      <td>-0.440296</td>\n",
       "      <td>-1.280157</td>\n",
       "      <td>-1.161611</td>\n",
       "      <td>-0.994123</td>\n",
       "      <td>0.0</td>\n",
       "    </tr>\n",
       "    <tr>\n",
       "      <th>1</th>\n",
       "      <td>1.0</td>\n",
       "      <td>0.0</td>\n",
       "      <td>1.0</td>\n",
       "      <td>1.0</td>\n",
       "      <td>0.0</td>\n",
       "      <td>0.0</td>\n",
       "      <td>0.0</td>\n",
       "      <td>1.0</td>\n",
       "      <td>1.0</td>\n",
       "      <td>1.0</td>\n",
       "      <td>-0.440296</td>\n",
       "      <td>0.064298</td>\n",
       "      <td>-0.260859</td>\n",
       "      <td>-0.173727</td>\n",
       "      <td>0.0</td>\n",
       "    </tr>\n",
       "    <tr>\n",
       "      <th>2</th>\n",
       "      <td>1.0</td>\n",
       "      <td>0.0</td>\n",
       "      <td>1.0</td>\n",
       "      <td>0.0</td>\n",
       "      <td>0.0</td>\n",
       "      <td>0.0</td>\n",
       "      <td>0.0</td>\n",
       "      <td>0.0</td>\n",
       "      <td>0.0</td>\n",
       "      <td>1.0</td>\n",
       "      <td>-0.440296</td>\n",
       "      <td>-1.239416</td>\n",
       "      <td>-0.363897</td>\n",
       "      <td>-0.959581</td>\n",
       "      <td>1.0</td>\n",
       "    </tr>\n",
       "    <tr>\n",
       "      <th>3</th>\n",
       "      <td>1.0</td>\n",
       "      <td>0.0</td>\n",
       "      <td>1.0</td>\n",
       "      <td>1.0</td>\n",
       "      <td>1.0</td>\n",
       "      <td>0.0</td>\n",
       "      <td>0.0</td>\n",
       "      <td>1.0</td>\n",
       "      <td>1.0</td>\n",
       "      <td>2.0</td>\n",
       "      <td>-0.440296</td>\n",
       "      <td>0.512450</td>\n",
       "      <td>-0.747797</td>\n",
       "      <td>-0.195234</td>\n",
       "      <td>0.0</td>\n",
       "    </tr>\n",
       "    <tr>\n",
       "      <th>4</th>\n",
       "      <td>1.0</td>\n",
       "      <td>0.0</td>\n",
       "      <td>0.0</td>\n",
       "      <td>0.0</td>\n",
       "      <td>0.0</td>\n",
       "      <td>0.0</td>\n",
       "      <td>0.0</td>\n",
       "      <td>0.0</td>\n",
       "      <td>0.0</td>\n",
       "      <td>0.0</td>\n",
       "      <td>-0.440296</td>\n",
       "      <td>-1.239416</td>\n",
       "      <td>0.196164</td>\n",
       "      <td>-0.940391</td>\n",
       "      <td>1.0</td>\n",
       "    </tr>\n",
       "  </tbody>\n",
       "</table>\n",
       "</div>"
      ],
      "text/plain": [
       "   Partner  Dependents  OnlineSecurity  DeviceProtection  TechSupport  \\\n",
       "0      0.0         0.0             0.0               0.0          0.0   \n",
       "1      1.0         0.0             1.0               1.0          0.0   \n",
       "2      1.0         0.0             1.0               0.0          0.0   \n",
       "3      1.0         0.0             1.0               1.0          1.0   \n",
       "4      1.0         0.0             0.0               0.0          0.0   \n",
       "\n",
       "   StreamingTV  StreamingMovies  Contract  PaperlessBilling  PaymentMethod  \\\n",
       "0          0.0              0.0       0.0               0.0            0.0   \n",
       "1          0.0              0.0       1.0               1.0            1.0   \n",
       "2          0.0              0.0       0.0               0.0            1.0   \n",
       "3          0.0              0.0       1.0               1.0            2.0   \n",
       "4          0.0              0.0       0.0               0.0            0.0   \n",
       "\n",
       "   SeniorCitizen    tenure  MonthlyCharges  TotalCharges  Churn  \n",
       "0      -0.440296 -1.280157       -1.161611     -0.994123    0.0  \n",
       "1      -0.440296  0.064298       -0.260859     -0.173727    0.0  \n",
       "2      -0.440296 -1.239416       -0.363897     -0.959581    1.0  \n",
       "3      -0.440296  0.512450       -0.747797     -0.195234    0.0  \n",
       "4      -0.440296 -1.239416        0.196164     -0.940391    1.0  "
      ]
     },
     "execution_count": 2,
     "metadata": {},
     "output_type": "execute_result"
    }
   ],
   "source": [
    "#importer les données \n",
    "dataset = pd.read_csv('ds_prt.csv', delimiter =\";\")\n",
    "dataset.head()"
   ]
  },
  {
   "cell_type": "code",
   "execution_count": 3,
   "id": "583b88fb-11d8-481b-9623-8e8a14b58463",
   "metadata": {},
   "outputs": [
    {
     "data": {
      "text/plain": [
       "<AxesSubplot:>"
      ]
     },
     "execution_count": 3,
     "metadata": {},
     "output_type": "execute_result"
    },
    {
     "data": {
      "image/png": "[encoded data removed]",
      "text/plain": [
       "<Figure size 640x480 with 2 Axes>"
      ]
     },
     "metadata": {},
     "output_type": "display_data"
    }
   ],
   "source": [
    "#correlation entre les données \n",
    "corr = dataset.iloc[:,: -1].corr(method=\"pearson\")\n",
    "cmap = sn.diverging_palette(250,354,80,60, center ='dark', as_cmap = True)\n",
    "sn.heatmap(corr, vmax=1, vmin=-0.5, cmap = cmap, square =True, linewidths =0.2)\n",
    "#on remarque que les variables sont independantes des autres donc on applique la classification bayesienne naive "
   ]
  },
  {
   "cell_type": "code",
   "execution_count": 4,
   "id": "1b5c2b90-0b9d-4f6c-9cfc-048b5e1cbfe1",
   "metadata": {},
   "outputs": [
    {
     "data": {
      "text/html": [
       "<div>\n",
       "<style scoped>\n",
       "    .dataframe tbody tr th:only-of-type {\n",
       "        vertical-align: middle;\n",
       "    }\n",
       "\n",
       "    .dataframe tbody tr th {\n",
       "        vertical-align: top;\n",
       "    }\n",
       "\n",
       "    .dataframe thead th {\n",
       "        text-align: right;\n",
       "    }\n",
       "</style>\n",
       "<table border=\"1\" class=\"dataframe\">\n",
       "  <thead>\n",
       "    <tr style=\"text-align: right;\">\n",
       "      <th></th>\n",
       "      <th>Partner</th>\n",
       "      <th>Dependents</th>\n",
       "      <th>OnlineSecurity</th>\n",
       "      <th>DeviceProtection</th>\n",
       "      <th>TechSupport</th>\n",
       "      <th>StreamingTV</th>\n",
       "      <th>StreamingMovies</th>\n",
       "      <th>Contract</th>\n",
       "      <th>PaperlessBilling</th>\n",
       "      <th>PaymentMethod</th>\n",
       "      <th>SeniorCitizen</th>\n",
       "      <th>tenure</th>\n",
       "      <th>MonthlyCharges</th>\n",
       "    </tr>\n",
       "  </thead>\n",
       "  <tbody>\n",
       "    <tr>\n",
       "      <th>0</th>\n",
       "      <td>0.0</td>\n",
       "      <td>0.0</td>\n",
       "      <td>0.0</td>\n",
       "      <td>0.0</td>\n",
       "      <td>0.0</td>\n",
       "      <td>0.0</td>\n",
       "      <td>0.0</td>\n",
       "      <td>0.0</td>\n",
       "      <td>0.0</td>\n",
       "      <td>0.0</td>\n",
       "      <td>-0.440296</td>\n",
       "      <td>-1.280157</td>\n",
       "      <td>-1.161611</td>\n",
       "    </tr>\n",
       "    <tr>\n",
       "      <th>1</th>\n",
       "      <td>1.0</td>\n",
       "      <td>0.0</td>\n",
       "      <td>1.0</td>\n",
       "      <td>1.0</td>\n",
       "      <td>0.0</td>\n",
       "      <td>0.0</td>\n",
       "      <td>0.0</td>\n",
       "      <td>1.0</td>\n",
       "      <td>1.0</td>\n",
       "      <td>1.0</td>\n",
       "      <td>-0.440296</td>\n",
       "      <td>0.064298</td>\n",
       "      <td>-0.260859</td>\n",
       "    </tr>\n",
       "    <tr>\n",
       "      <th>2</th>\n",
       "      <td>1.0</td>\n",
       "      <td>0.0</td>\n",
       "      <td>1.0</td>\n",
       "      <td>0.0</td>\n",
       "      <td>0.0</td>\n",
       "      <td>0.0</td>\n",
       "      <td>0.0</td>\n",
       "      <td>0.0</td>\n",
       "      <td>0.0</td>\n",
       "      <td>1.0</td>\n",
       "      <td>-0.440296</td>\n",
       "      <td>-1.239416</td>\n",
       "      <td>-0.363897</td>\n",
       "    </tr>\n",
       "    <tr>\n",
       "      <th>3</th>\n",
       "      <td>1.0</td>\n",
       "      <td>0.0</td>\n",
       "      <td>1.0</td>\n",
       "      <td>1.0</td>\n",
       "      <td>1.0</td>\n",
       "      <td>0.0</td>\n",
       "      <td>0.0</td>\n",
       "      <td>1.0</td>\n",
       "      <td>1.0</td>\n",
       "      <td>2.0</td>\n",
       "      <td>-0.440296</td>\n",
       "      <td>0.512450</td>\n",
       "      <td>-0.747797</td>\n",
       "    </tr>\n",
       "    <tr>\n",
       "      <th>4</th>\n",
       "      <td>1.0</td>\n",
       "      <td>0.0</td>\n",
       "      <td>0.0</td>\n",
       "      <td>0.0</td>\n",
       "      <td>0.0</td>\n",
       "      <td>0.0</td>\n",
       "      <td>0.0</td>\n",
       "      <td>0.0</td>\n",
       "      <td>0.0</td>\n",
       "      <td>0.0</td>\n",
       "      <td>-0.440296</td>\n",
       "      <td>-1.239416</td>\n",
       "      <td>0.196164</td>\n",
       "    </tr>\n",
       "  </tbody>\n",
       "</table>\n",
       "</div>"
      ],
      "text/plain": [
       "   Partner  Dependents  OnlineSecurity  DeviceProtection  TechSupport  \\\n",
       "0      0.0         0.0             0.0               0.0          0.0   \n",
       "1      1.0         0.0             1.0               1.0          0.0   \n",
       "2      1.0         0.0             1.0               0.0          0.0   \n",
       "3      1.0         0.0             1.0               1.0          1.0   \n",
       "4      1.0         0.0             0.0               0.0          0.0   \n",
       "\n",
       "   StreamingTV  StreamingMovies  Contract  PaperlessBilling  PaymentMethod  \\\n",
       "0          0.0              0.0       0.0               0.0            0.0   \n",
       "1          0.0              0.0       1.0               1.0            1.0   \n",
       "2          0.0              0.0       0.0               0.0            1.0   \n",
       "3          0.0              0.0       1.0               1.0            2.0   \n",
       "4          0.0              0.0       0.0               0.0            0.0   \n",
       "\n",
       "   SeniorCitizen    tenure  MonthlyCharges  \n",
       "0      -0.440296 -1.280157       -1.161611  \n",
       "1      -0.440296  0.064298       -0.260859  \n",
       "2      -0.440296 -1.239416       -0.363897  \n",
       "3      -0.440296  0.512450       -0.747797  \n",
       "4      -0.440296 -1.239416        0.196164  "
      ]
     },
     "execution_count": 4,
     "metadata": {},
     "output_type": "execute_result"
    }
   ],
   "source": [
    "x = dataset.iloc[0:, :13]\n",
    "x.head()"
   ]
  },
  {
   "cell_type": "code",
   "execution_count": 5,
   "id": "43c31188-fc62-4bd9-921a-5264779b0e14",
   "metadata": {},
   "outputs": [
    {
     "data": {
      "text/plain": [
       "0    0.0\n",
       "1    0.0\n",
       "2    1.0\n",
       "3    0.0\n",
       "4    1.0\n",
       "Name: Churn, dtype: float64"
      ]
     },
     "execution_count": 5,
     "metadata": {},
     "output_type": "execute_result"
    }
   ],
   "source": [
    "y = dataset.iloc[0:,14]\n",
    "y.head()"
   ]
  },
  {
   "cell_type": "code",
   "execution_count": 6,
   "id": "e52b1b30-94fd-45fc-a6f5-bce27bc1ea23",
   "metadata": {},
   "outputs": [],
   "source": [
    "#donnée a tableaux np \n",
    "X = np.array(x)\n",
    "#print(X)\n",
    "y = np.array(y)\n",
    "#print(y)"
   ]
  },
  {
   "cell_type": "code",
   "execution_count": 7,
   "id": "e8faacb7-80ee-4cbb-b2cb-a6de9305ffc0",
   "metadata": {},
   "outputs": [],
   "source": [
    "from sklearn.model_selection import train_test_split\n",
    "xtrain, xtest, ytrain, ytest = train_test_split(X, y, test_size=0.2, random_state=24)\n",
    "#print (xtrain)\n",
    "#print (ytrain)"
   ]
  },
  {
   "cell_type": "code",
   "execution_count": 8,
   "id": "888871e2-ae04-4b7a-ac3a-f2e443fe65da",
   "metadata": {},
   "outputs": [],
   "source": [
    "#probabilite cond (gauss)\n",
    "def pro_cond(xtrain, moyenne, ecart_type):\n",
    "    exponent = np.exp(-((xtrain - moyenne) ** 2) / (2 * (ecart_type ** 2)))\n",
    "    return (1 / (np.sqrt(2 * np.pi) * ecart_type)) * exponent "
   ]
  },
  {
   "cell_type": "code",
   "execution_count": 9,
   "id": "947799b6-4973-4a23-bd6f-7dc1e54ffcf1",
   "metadata": {},
   "outputs": [],
   "source": [
    "#classif bayes \n",
    "def modele(xtrain, ytrain):\n",
    "    nb_classes = 2 \n",
    "    caract = xtrain.shape[1]\n",
    "    moyennes = np.zeros((nb_classes, caract))\n",
    "    ecart_types = np.zeros((nb_classes, caract))\n",
    "    prioris = np.zeros(nb_classes)\n",
    "    \n",
    "#moy et ecart type de chaque classe\n",
    "    for classe in range(nb_classes):\n",
    "        xclasse = xtrain[ytrain == classe]\n",
    "        moyennes[classe] = xclasse.mean(axis=0)\n",
    "        ecart_types[classe] = xclasse.std(axis=0)\n",
    "\n",
    "#nouvelle prob\n",
    "    for classe in range(nb_classes):\n",
    "        prioris[classe] = np.sum(ytrain == classe) / len(ytrain)\n",
    "\n",
    "    return moyennes, ecart_types, prioris"
   ]
  },
  {
   "cell_type": "code",
   "execution_count": 10,
   "id": "28206e92-a73d-4d3d-bb7e-bbfe833f710f",
   "metadata": {},
   "outputs": [],
   "source": [
    "def predire(xtest, moyennes, ecart_types, prioris):\n",
    "    nb_classes = len(prioris)\n",
    "    nb_test = xtest.shape[0]\n",
    "    predictions = np.zeros(nb_test, dtype=int)\n",
    "\n",
    "    for i in range(nb_test):\n",
    "        probabilites_classes = np.zeros(nb_classes)\n",
    "\n",
    "        for classe in range(nb_classes):\n",
    "            probabilites_caract = pro_cond(xtest[i], moyennes[classe], ecart_types[classe])\n",
    "            probabilites_caract = np.array(probabilites_caract, dtype=float)\n",
    "            probabilites_classes[classe] = np.prod(probabilites_caract) * prioris[classe]\n",
    "\n",
    "        predictions[i] = np.argmax(probabilites_classes)\n",
    "\n",
    "    return predictions\n"
   ]
  },
  {
   "cell_type": "code",
   "execution_count": 11,
   "id": "aca57501-5636-4641-8994-3c39c76bf9ee",
   "metadata": {},
   "outputs": [
    {
     "name": "stdout",
     "output_type": "stream",
     "text": [
      "[[ 0.46734398  0.34857281  0.87493953  0.91219158  0.87832608  0.91509434\n",
      "   0.92718916  0.89090469  0.46371553  1.492985   -0.08746287  0.22043277\n",
      "  -0.10636823]\n",
      " [ 0.6425218   0.1824279   0.26827632  0.40643863  0.27364185  0.55533199\n",
      "   0.55331992  0.14419852  0.24681422  0.82562039  0.24522557 -0.56821306\n",
      "   0.32516743]]\n",
      "[[0.49893244 0.47651842 0.81030251 0.79200247 0.8087269  0.79048498\n",
      "  0.78401482 0.85806992 0.4986817  1.12103697 0.91219521 0.98280959\n",
      "  1.0408816 ]\n",
      " [0.47925728 0.38619679 0.55585987 0.59491371 0.55806634 0.5996786\n",
      "  0.59986085 0.41436101 0.4311577  1.08729055 1.17840047 0.80345682\n",
      "  0.81578742]]\n",
      "[0.73493333 0.26506667]\n"
     ]
    }
   ],
   "source": [
    "#entraintement \n",
    "moyennes, ecart_types, prioris = modele (xtrain, ytrain)\n",
    "\n",
    "#affichage \n",
    "print( moyennes)\n",
    "print(ecart_types)\n",
    "print (prioris)"
   ]
  },
  {
   "cell_type": "code",
   "execution_count": 12,
   "id": "d7ae8a82-ef15-4475-9211-a2dc7185fa24",
   "metadata": {},
   "outputs": [],
   "source": [
    "pred = predire (xtest, moyennes, ecart_types, prioris)"
   ]
  },
  {
   "cell_type": "code",
   "execution_count": 13,
   "id": "8b5e8162-a9f8-4699-bc45-4897f34ab74a",
   "metadata": {},
   "outputs": [
    {
     "name": "stdout",
     "output_type": "stream",
     "text": [
      "Précision : 0.7107320540156361\n"
     ]
    }
   ],
   "source": [
    "from sklearn.metrics import accuracy_score\n",
    "accuracy = accuracy_score(ytest, pred)\n",
    "print(\"Précision :\", accuracy)\n"
   ]
  },
  {
   "cell_type": "code",
   "execution_count": 15,
   "id": "ddc8620b-3249-4e98-9f58-581d76dd3aee",
   "metadata": {},
   "outputs": [
    {
     "name": "stdout",
     "output_type": "stream",
     "text": [
      "[1. 0. 1. ... 1. 1. 0.]\n",
      "Précision: 0.7107320540156361\n"
     ]
    }
   ],
   "source": [
    "#Verification\n",
    "from sklearn.naive_bayes import GaussianNB\n",
    "model = GaussianNB()\n",
    "model.fit(xtrain, ytrain)\n",
    "y_pred = model.predict(xtest)\n",
    "print(y_pred)\n",
    "\n",
    "#precision \n",
    "print(\"Précision:\", accuracy_score(ytest, y_pred))\n"
   ]
  }
 ],
 "metadata": {
  "kernelspec": {
   "display_name": "Python 3 (ipykernel)",
   "language": "python",
   "name": "python3"
  },
  "language_info": {
   "codemirror_mode": {
    "name": "ipython",
    "version": 3
   },
   "file_extension": ".py",
   "mimetype": "text/x-python",
   "name": "python",
   "nbconvert_exporter": "python",
   "pygments_lexer": "ipython3",
   "version": "3.9.13"
  }
 },
 "nbformat": 4,
 "nbformat_minor": 5
}
