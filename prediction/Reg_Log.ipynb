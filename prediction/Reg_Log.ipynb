{
 "cells": [
  {
   "cell_type": "code",
   "execution_count": 1,
   "id": "9781d41e-4c9e-4b87-9c5a-cfa57348918f",
   "metadata": {},
   "outputs": [],
   "source": [
    "import pandas as pd\n",
    "import numpy as np\n",
    "import matplotlib.pyplot as plt\n",
    "from sklearn.model_selection import train_test_split\n"
   ]
  },
  {
   "cell_type": "code",
   "execution_count": 2,
   "id": "27204f70-3393-4bb9-b475-f013daec0981",
   "metadata": {},
   "outputs": [
    {
     "name": "stdout",
     "output_type": "stream",
     "text": [
      "      Partner  Dependents  OnlineSecurity  DeviceProtection  TechSupport  \\\n",
      "0         0.0         0.0             0.0               0.0          0.0   \n",
      "1         1.0         0.0             1.0               1.0          0.0   \n",
      "2         1.0         0.0             1.0               0.0          0.0   \n",
      "3         1.0         0.0             1.0               1.0          1.0   \n",
      "4         1.0         0.0             0.0               0.0          0.0   \n",
      "...       ...         ...             ...               ...          ...   \n",
      "7027      0.0         1.0             1.0               1.0          1.0   \n",
      "7028      0.0         1.0             0.0               1.0          0.0   \n",
      "7029      0.0         1.0             1.0               0.0          0.0   \n",
      "7030      0.0         0.0             0.0               0.0          0.0   \n",
      "7031      1.0         0.0             1.0               1.0          1.0   \n",
      "\n",
      "      StreamingTV  StreamingMovies  Contract  PaperlessBilling  PaymentMethod  \\\n",
      "0             0.0              0.0       0.0               0.0            0.0   \n",
      "1             0.0              0.0       1.0               1.0            1.0   \n",
      "2             0.0              0.0       0.0               0.0            1.0   \n",
      "3             0.0              0.0       1.0               1.0            2.0   \n",
      "4             0.0              0.0       0.0               0.0            0.0   \n",
      "...           ...              ...       ...               ...            ...   \n",
      "7027          1.0              1.0       1.0               0.0            1.0   \n",
      "7028          1.0              1.0       1.0               0.0            3.0   \n",
      "7029          0.0              0.0       0.0               0.0            0.0   \n",
      "7030          0.0              0.0       0.0               0.0            1.0   \n",
      "7031          1.0              1.0       2.0               0.0            2.0   \n",
      "\n",
      "      SeniorCitizen    tenure  MonthlyCharges  TotalCharges  Churn  \n",
      "0         -0.440296 -1.280157       -1.161611     -0.994123    0.0  \n",
      "1         -0.440296  0.064298       -0.260859     -0.173727    0.0  \n",
      "2         -0.440296 -1.239416       -0.363897     -0.959581    1.0  \n",
      "3         -0.440296  0.512450       -0.747797     -0.195234    0.0  \n",
      "4         -0.440296 -1.239416        0.196164     -0.940391    1.0  \n",
      "...             ...       ...             ...           ...    ...  \n",
      "7027      -0.440296 -0.343113        0.664821     -0.129171    0.0  \n",
      "7028      -0.440296  1.612459        1.276402      2.240896    0.0  \n",
      "7029      -0.440296 -0.872746       -1.169921     -0.854453    0.0  \n",
      "7030       2.270878 -1.157934        0.319145     -0.872033    1.0  \n",
      "7031      -0.440296  1.368012        1.357835      2.012201    0.0  \n",
      "\n",
      "[7032 rows x 15 columns]\n"
     ]
    }
   ],
   "source": [
    "dataset = pd.read_csv(\"ds_prt.csv\", delimiter=';')\n",
    "print(dataset)"
   ]
  },
  {
   "cell_type": "code",
   "execution_count": 3,
   "id": "2c1fb897-e53b-4a88-bd52-d08d6eb89235",
   "metadata": {},
   "outputs": [
    {
     "data": {
      "text/html": [
       "<div>\n",
       "<style scoped>\n",
       "    .dataframe tbody tr th:only-of-type {\n",
       "        vertical-align: middle;\n",
       "    }\n",
       "\n",
       "    .dataframe tbody tr th {\n",
       "        vertical-align: top;\n",
       "    }\n",
       "\n",
       "    .dataframe thead th {\n",
       "        text-align: right;\n",
       "    }\n",
       "</style>\n",
       "<table border=\"1\" class=\"dataframe\">\n",
       "  <thead>\n",
       "    <tr style=\"text-align: right;\">\n",
       "      <th></th>\n",
       "      <th>Partner</th>\n",
       "      <th>Dependents</th>\n",
       "      <th>OnlineSecurity</th>\n",
       "      <th>DeviceProtection</th>\n",
       "      <th>TechSupport</th>\n",
       "      <th>StreamingTV</th>\n",
       "      <th>StreamingMovies</th>\n",
       "      <th>Contract</th>\n",
       "      <th>PaperlessBilling</th>\n",
       "      <th>PaymentMethod</th>\n",
       "      <th>SeniorCitizen</th>\n",
       "      <th>tenure</th>\n",
       "      <th>MonthlyCharges</th>\n",
       "    </tr>\n",
       "  </thead>\n",
       "  <tbody>\n",
       "    <tr>\n",
       "      <th>0</th>\n",
       "      <td>0.0</td>\n",
       "      <td>0.0</td>\n",
       "      <td>0.0</td>\n",
       "      <td>0.0</td>\n",
       "      <td>0.0</td>\n",
       "      <td>0.0</td>\n",
       "      <td>0.0</td>\n",
       "      <td>0.0</td>\n",
       "      <td>0.0</td>\n",
       "      <td>0.0</td>\n",
       "      <td>-0.440296</td>\n",
       "      <td>-1.280157</td>\n",
       "      <td>-1.161611</td>\n",
       "    </tr>\n",
       "    <tr>\n",
       "      <th>1</th>\n",
       "      <td>1.0</td>\n",
       "      <td>0.0</td>\n",
       "      <td>1.0</td>\n",
       "      <td>1.0</td>\n",
       "      <td>0.0</td>\n",
       "      <td>0.0</td>\n",
       "      <td>0.0</td>\n",
       "      <td>1.0</td>\n",
       "      <td>1.0</td>\n",
       "      <td>1.0</td>\n",
       "      <td>-0.440296</td>\n",
       "      <td>0.064298</td>\n",
       "      <td>-0.260859</td>\n",
       "    </tr>\n",
       "    <tr>\n",
       "      <th>2</th>\n",
       "      <td>1.0</td>\n",
       "      <td>0.0</td>\n",
       "      <td>1.0</td>\n",
       "      <td>0.0</td>\n",
       "      <td>0.0</td>\n",
       "      <td>0.0</td>\n",
       "      <td>0.0</td>\n",
       "      <td>0.0</td>\n",
       "      <td>0.0</td>\n",
       "      <td>1.0</td>\n",
       "      <td>-0.440296</td>\n",
       "      <td>-1.239416</td>\n",
       "      <td>-0.363897</td>\n",
       "    </tr>\n",
       "    <tr>\n",
       "      <th>3</th>\n",
       "      <td>1.0</td>\n",
       "      <td>0.0</td>\n",
       "      <td>1.0</td>\n",
       "      <td>1.0</td>\n",
       "      <td>1.0</td>\n",
       "      <td>0.0</td>\n",
       "      <td>0.0</td>\n",
       "      <td>1.0</td>\n",
       "      <td>1.0</td>\n",
       "      <td>2.0</td>\n",
       "      <td>-0.440296</td>\n",
       "      <td>0.512450</td>\n",
       "      <td>-0.747797</td>\n",
       "    </tr>\n",
       "    <tr>\n",
       "      <th>4</th>\n",
       "      <td>1.0</td>\n",
       "      <td>0.0</td>\n",
       "      <td>0.0</td>\n",
       "      <td>0.0</td>\n",
       "      <td>0.0</td>\n",
       "      <td>0.0</td>\n",
       "      <td>0.0</td>\n",
       "      <td>0.0</td>\n",
       "      <td>0.0</td>\n",
       "      <td>0.0</td>\n",
       "      <td>-0.440296</td>\n",
       "      <td>-1.239416</td>\n",
       "      <td>0.196164</td>\n",
       "    </tr>\n",
       "    <tr>\n",
       "      <th>...</th>\n",
       "      <td>...</td>\n",
       "      <td>...</td>\n",
       "      <td>...</td>\n",
       "      <td>...</td>\n",
       "      <td>...</td>\n",
       "      <td>...</td>\n",
       "      <td>...</td>\n",
       "      <td>...</td>\n",
       "      <td>...</td>\n",
       "      <td>...</td>\n",
       "      <td>...</td>\n",
       "      <td>...</td>\n",
       "      <td>...</td>\n",
       "    </tr>\n",
       "    <tr>\n",
       "      <th>7027</th>\n",
       "      <td>0.0</td>\n",
       "      <td>1.0</td>\n",
       "      <td>1.0</td>\n",
       "      <td>1.0</td>\n",
       "      <td>1.0</td>\n",
       "      <td>1.0</td>\n",
       "      <td>1.0</td>\n",
       "      <td>1.0</td>\n",
       "      <td>0.0</td>\n",
       "      <td>1.0</td>\n",
       "      <td>-0.440296</td>\n",
       "      <td>-0.343113</td>\n",
       "      <td>0.664821</td>\n",
       "    </tr>\n",
       "    <tr>\n",
       "      <th>7028</th>\n",
       "      <td>0.0</td>\n",
       "      <td>1.0</td>\n",
       "      <td>0.0</td>\n",
       "      <td>1.0</td>\n",
       "      <td>0.0</td>\n",
       "      <td>1.0</td>\n",
       "      <td>1.0</td>\n",
       "      <td>1.0</td>\n",
       "      <td>0.0</td>\n",
       "      <td>3.0</td>\n",
       "      <td>-0.440296</td>\n",
       "      <td>1.612459</td>\n",
       "      <td>1.276402</td>\n",
       "    </tr>\n",
       "    <tr>\n",
       "      <th>7029</th>\n",
       "      <td>0.0</td>\n",
       "      <td>1.0</td>\n",
       "      <td>1.0</td>\n",
       "      <td>0.0</td>\n",
       "      <td>0.0</td>\n",
       "      <td>0.0</td>\n",
       "      <td>0.0</td>\n",
       "      <td>0.0</td>\n",
       "      <td>0.0</td>\n",
       "      <td>0.0</td>\n",
       "      <td>-0.440296</td>\n",
       "      <td>-0.872746</td>\n",
       "      <td>-1.169921</td>\n",
       "    </tr>\n",
       "    <tr>\n",
       "      <th>7030</th>\n",
       "      <td>0.0</td>\n",
       "      <td>0.0</td>\n",
       "      <td>0.0</td>\n",
       "      <td>0.0</td>\n",
       "      <td>0.0</td>\n",
       "      <td>0.0</td>\n",
       "      <td>0.0</td>\n",
       "      <td>0.0</td>\n",
       "      <td>0.0</td>\n",
       "      <td>1.0</td>\n",
       "      <td>2.270878</td>\n",
       "      <td>-1.157934</td>\n",
       "      <td>0.319145</td>\n",
       "    </tr>\n",
       "    <tr>\n",
       "      <th>7031</th>\n",
       "      <td>1.0</td>\n",
       "      <td>0.0</td>\n",
       "      <td>1.0</td>\n",
       "      <td>1.0</td>\n",
       "      <td>1.0</td>\n",
       "      <td>1.0</td>\n",
       "      <td>1.0</td>\n",
       "      <td>2.0</td>\n",
       "      <td>0.0</td>\n",
       "      <td>2.0</td>\n",
       "      <td>-0.440296</td>\n",
       "      <td>1.368012</td>\n",
       "      <td>1.357835</td>\n",
       "    </tr>\n",
       "  </tbody>\n",
       "</table>\n",
       "<p>7032 rows × 13 columns</p>\n",
       "</div>"
      ],
      "text/plain": [
       "      Partner  Dependents  OnlineSecurity  DeviceProtection  TechSupport  \\\n",
       "0         0.0         0.0             0.0               0.0          0.0   \n",
       "1         1.0         0.0             1.0               1.0          0.0   \n",
       "2         1.0         0.0             1.0               0.0          0.0   \n",
       "3         1.0         0.0             1.0               1.0          1.0   \n",
       "4         1.0         0.0             0.0               0.0          0.0   \n",
       "...       ...         ...             ...               ...          ...   \n",
       "7027      0.0         1.0             1.0               1.0          1.0   \n",
       "7028      0.0         1.0             0.0               1.0          0.0   \n",
       "7029      0.0         1.0             1.0               0.0          0.0   \n",
       "7030      0.0         0.0             0.0               0.0          0.0   \n",
       "7031      1.0         0.0             1.0               1.0          1.0   \n",
       "\n",
       "      StreamingTV  StreamingMovies  Contract  PaperlessBilling  PaymentMethod  \\\n",
       "0             0.0              0.0       0.0               0.0            0.0   \n",
       "1             0.0              0.0       1.0               1.0            1.0   \n",
       "2             0.0              0.0       0.0               0.0            1.0   \n",
       "3             0.0              0.0       1.0               1.0            2.0   \n",
       "4             0.0              0.0       0.0               0.0            0.0   \n",
       "...           ...              ...       ...               ...            ...   \n",
       "7027          1.0              1.0       1.0               0.0            1.0   \n",
       "7028          1.0              1.0       1.0               0.0            3.0   \n",
       "7029          0.0              0.0       0.0               0.0            0.0   \n",
       "7030          0.0              0.0       0.0               0.0            1.0   \n",
       "7031          1.0              1.0       2.0               0.0            2.0   \n",
       "\n",
       "      SeniorCitizen    tenure  MonthlyCharges  \n",
       "0         -0.440296 -1.280157       -1.161611  \n",
       "1         -0.440296  0.064298       -0.260859  \n",
       "2         -0.440296 -1.239416       -0.363897  \n",
       "3         -0.440296  0.512450       -0.747797  \n",
       "4         -0.440296 -1.239416        0.196164  \n",
       "...             ...       ...             ...  \n",
       "7027      -0.440296 -0.343113        0.664821  \n",
       "7028      -0.440296  1.612459        1.276402  \n",
       "7029      -0.440296 -0.872746       -1.169921  \n",
       "7030       2.270878 -1.157934        0.319145  \n",
       "7031      -0.440296  1.368012        1.357835  \n",
       "\n",
       "[7032 rows x 13 columns]"
      ]
     },
     "execution_count": 3,
     "metadata": {},
     "output_type": "execute_result"
    }
   ],
   "source": [
    "x = dataset.iloc[0:, :13]\n",
    "x"
   ]
  },
  {
   "cell_type": "code",
   "execution_count": 4,
   "id": "f7ba4817-7a63-4311-a08b-0060db80370e",
   "metadata": {},
   "outputs": [
    {
     "data": {
      "text/plain": [
       "0       0.0\n",
       "1       0.0\n",
       "2       1.0\n",
       "3       0.0\n",
       "4       1.0\n",
       "       ... \n",
       "7027    0.0\n",
       "7028    0.0\n",
       "7029    0.0\n",
       "7030    1.0\n",
       "7031    0.0\n",
       "Name: Churn, Length: 7032, dtype: float64"
      ]
     },
     "execution_count": 4,
     "metadata": {},
     "output_type": "execute_result"
    }
   ],
   "source": [
    "y= dataset.iloc[0:,14]\n",
    "y"
   ]
  },
  {
   "cell_type": "code",
   "execution_count": 5,
   "id": "db71d743-f6ac-483a-b402-2636a134ecef",
   "metadata": {},
   "outputs": [
    {
     "name": "stdout",
     "output_type": "stream",
     "text": [
      "[[ 0.          0.          0.         ... -0.44029578 -1.280157\n",
      "  -1.16161133]\n",
      " [ 1.          0.          1.         ... -0.44029578  0.06429811\n",
      "  -0.26085937]\n",
      " [ 1.          0.          1.         ... -0.44029578 -1.23941594\n",
      "  -0.36389742]\n",
      " ...\n",
      " [ 0.          1.          1.         ... -0.44029578 -0.87274636\n",
      "  -1.16992085]\n",
      " [ 0.          0.          0.         ...  2.27087753 -1.15793381\n",
      "   0.31914512]\n",
      " [ 1.          0.          1.         ... -0.44029578  1.36801217\n",
      "   1.35783512]]\n"
     ]
    }
   ],
   "source": [
    "X = np.array(x)\n",
    "print(X)\n"
   ]
  },
  {
   "cell_type": "code",
   "execution_count": 6,
   "id": "26981bb5-5bf7-4b8b-95fe-90fb104b1656",
   "metadata": {},
   "outputs": [
    {
     "name": "stdout",
     "output_type": "stream",
     "text": [
      "[0. 0. 1. ... 0. 1. 0.]\n"
     ]
    },
    {
     "data": {
      "text/plain": [
       "0.0"
      ]
     },
     "execution_count": 6,
     "metadata": {},
     "output_type": "execute_result"
    }
   ],
   "source": [
    "y = np.array(y)\n",
    "print(y)\n",
    "y[1]"
   ]
  },
  {
   "cell_type": "code",
   "execution_count": 7,
   "id": "a7915322-e096-4a60-91f7-1db2c6c264cd",
   "metadata": {},
   "outputs": [
    {
     "name": "stdout",
     "output_type": "stream",
     "text": [
      "[0. 0. 0. ... 0. 0. 0.]\n"
     ]
    },
    {
     "data": {
      "text/plain": [
       "1.0"
      ]
     },
     "execution_count": 7,
     "metadata": {},
     "output_type": "execute_result"
    }
   ],
   "source": [
    "X_train, X_test, y_train, y_test = train_test_split(X, y, test_size=0.3, random_state=23)\n",
    "print(y_train)\n",
    "y_train[10]"
   ]
  },
  {
   "cell_type": "code",
   "execution_count": 8,
   "id": "d92cdc45-9df2-4a5d-a137-5e79dd450567",
   "metadata": {},
   "outputs": [],
   "source": [
    "X_train = np.c_[np.ones(X_train.shape[0]), X_train]"
   ]
  },
  {
   "cell_type": "code",
   "execution_count": 9,
   "id": "05d549d6-fd9e-4732-b676-3795682a8d9c",
   "metadata": {},
   "outputs": [
    {
     "data": {
      "text/plain": [
       "array([ 1.        ,  0.        ,  0.        ,  0.        ,  0.        ,\n",
       "        1.        ,  1.        ,  1.        ,  0.        ,  0.        ,\n",
       "        0.        , -0.44029578, -0.30237146,  1.00883528])"
      ]
     },
     "execution_count": 9,
     "metadata": {},
     "output_type": "execute_result"
    }
   ],
   "source": [
    "X_train[1]"
   ]
  },
  {
   "cell_type": "code",
   "execution_count": 10,
   "id": "96d1376a-b235-4d35-9991-610f986390c0",
   "metadata": {},
   "outputs": [
    {
     "name": "stdout",
     "output_type": "stream",
     "text": [
      "[ 0.1047574   0.22280672 -2.34598282 -0.55999126  0.39874064  0.01743276\n",
      " -0.11130947 -1.90312731  1.01628963 -0.63752266 -1.65283145 -1.42298754\n",
      "  0.12245845 -0.67116406]\n"
     ]
    }
   ],
   "source": [
    "theta = np.random.randn(X_train.shape[1])\n",
    "print(theta)"
   ]
  },
  {
   "cell_type": "code",
   "execution_count": 11,
   "id": "19254fd4-0b68-4b25-a7a5-76df73fd0abb",
   "metadata": {},
   "outputs": [],
   "source": [
    "def sigmoid(z):\n",
    "    return 1 / (1 + np.exp(-z))"
   ]
  },
  {
   "cell_type": "code",
   "execution_count": 12,
   "id": "00eed2d9-48af-4b60-959d-958f983d1928",
   "metadata": {},
   "outputs": [],
   "source": [
    "def cost_function(X, y, theta):\n",
    "    h = sigmoid(X.dot(theta))\n",
    "    m = len(y)\n",
    "    J = -1/m * (y.T.dot(np.log(h)) + (1-y).T.dot(np.log(1-h)))\n",
    "    return J"
   ]
  },
  {
   "cell_type": "code",
   "execution_count": 13,
   "id": "61eb77bb-92a1-4020-85a7-2cf85fb539bc",
   "metadata": {},
   "outputs": [],
   "source": [
    "def gradient_descent(X_train, y_train, theta, alpha, num_iters):\n",
    "    m = len(y_train)\n",
    "    J_history = np.zeros(num_iters)\n",
    "\n",
    "    for i in range(num_iters):\n",
    "        h = sigmoid(X_train.dot(theta))\n",
    "        theta = theta - alpha/m * X_train.T.dot(h - y_train)\n",
    "        J_history[i] = cost_function(X_train, y_train, theta)\n",
    "\n",
    "    return theta, J_history"
   ]
  },
  {
   "cell_type": "code",
   "execution_count": 14,
   "id": "7a9964a8-b9a4-4b58-a43e-81398544c0fe",
   "metadata": {},
   "outputs": [],
   "source": [
    "\n",
    "# Paramètres d'apprentissage\n",
    "learning_rate = 0.02\n",
    "num_iterations = 10000\n",
    "\n",
    "# Entraînement du modèle\n",
    "theta, J_history = gradient_descent(X_train, y_train,theta, learning_rate, num_iterations)\n"
   ]
  },
  {
   "cell_type": "code",
   "execution_count": 15,
   "id": "280a9349-64ce-4bf2-ae70-0da01c15bff1",
   "metadata": {},
   "outputs": [
    {
     "data": {
      "image/png": "[encoded data removed]",
      "text/plain": [
       "<Figure size 640x480 with 1 Axes>"
      ]
     },
     "metadata": {},
     "output_type": "display_data"
    }
   ],
   "source": [
    "plt.plot(np.arange(num_iterations), J_history)\n",
    "plt.show()"
   ]
  },
  {
   "cell_type": "code",
   "execution_count": 16,
   "id": "d89b591b-6509-4b42-b302-378e4a499765",
   "metadata": {},
   "outputs": [
    {
     "data": {
      "text/plain": [
       "array([-0.32567529, -0.        , -0.        , -0.4888178 , -0.        ,\n",
       "       -0.3005136 ,  0.1989404 ,  0.19538553, -1.41665192, -0.        ,\n",
       "       -0.36780558, -0.02929114, -1.33759855,  0.30983867])"
      ]
     },
     "execution_count": 16,
     "metadata": {},
     "output_type": "execute_result"
    }
   ],
   "source": [
    "X_test = np.c_[np.ones(X_test.shape[0]), X_test]\n",
    "y_pridect=theta*X_test\n",
    "y_pridect[5]"
   ]
  },
  {
   "cell_type": "code",
   "execution_count": 17,
   "id": "1f09d573-5095-4b07-b619-a0d94cba282e",
   "metadata": {},
   "outputs": [],
   "source": [
    "def summ(matrix):\n",
    "    y_final = []\n",
    "    for line in matrix:\n",
    "        y_final.append(np.sum(line))\n",
    "    return y_final\n"
   ]
  },
  {
   "cell_type": "code",
   "execution_count": 18,
   "id": "6a8f961c-3a26-4f9f-bc0e-4191519b6d1b",
   "metadata": {},
   "outputs": [],
   "source": [
    "y_pridect=summ(y_pridect)\n",
    "#y_pridect"
   ]
  },
  {
   "cell_type": "code",
   "execution_count": 19,
   "id": "13a3de1a-faef-4ffe-8261-42686c9bd1a7",
   "metadata": {},
   "outputs": [],
   "source": [
    "b=len(y_pridect)\n",
    "for i in range (b):\n",
    "    y_pridect[i]=(1 / (1 + np.exp(y_pridect[i])))\n",
    "\n",
    "#y_pridect    \n",
    "    "
   ]
  },
  {
   "cell_type": "code",
   "execution_count": 20,
   "id": "3c4d0773-b18d-4454-ad3a-54c973129e7c",
   "metadata": {},
   "outputs": [],
   "source": [
    "for i in  range ( len(y_pridect)):\n",
    "    if ( y_pridect[i] >= 0.5 ):\n",
    "        y_pridect[i]=1\n",
    "    else:\n",
    "        if  ( y_pridect[i] < 0.5 ):\n",
    "            y_pridect[i]=0\n",
    "#y_pridect"
   ]
  },
  {
   "cell_type": "code",
   "execution_count": 21,
   "id": "e0c17cdc-d84f-4ada-bd78-0d4aa0678aeb",
   "metadata": {},
   "outputs": [],
   "source": [
    "R=0\n",
    "A=0\n",
    "for i in range (len(y_pridect)):\n",
    "   if (y_pridect[i]==0)and(y_test[i]==0):\n",
    "    R=R+1\n",
    "for i in range (len(y_pridect)):\n",
    "   if (y_pridect[i]==1)and(y_test[i]==1):\n",
    "    A=A+1 \n",
    "total=A+R"
   ]
  },
  {
   "cell_type": "code",
   "execution_count": 22,
   "id": "e8ab1336-8f13-44f3-939e-b34634e45827",
   "metadata": {},
   "outputs": [
    {
     "data": {
      "text/plain": [
       "435"
      ]
     },
     "execution_count": 22,
     "metadata": {},
     "output_type": "execute_result"
    }
   ],
   "source": [
    "total"
   ]
  },
  {
   "cell_type": "code",
   "execution_count": 23,
   "id": "4f62d7c2-cc0a-4fc8-b74c-ae7054f6e3a8",
   "metadata": {},
   "outputs": [
    {
     "data": {
      "text/plain": [
       "0.20616113744075829"
      ]
     },
     "execution_count": 23,
     "metadata": {},
     "output_type": "execute_result"
    }
   ],
   "source": [
    "precision= total/len(y_test)\n",
    "precision"
   ]
  },
  {
   "cell_type": "code",
   "execution_count": 24,
   "id": "13e9b766-4ee7-4821-a8a1-50c09660a922",
   "metadata": {},
   "outputs": [
    {
     "data": {
      "text/plain": [
       "1675"
      ]
     },
     "execution_count": 24,
     "metadata": {},
     "output_type": "execute_result"
    }
   ],
   "source": [
    "erreur=len(y_test)-total\n",
    "erreur"
   ]
  },
  {
   "cell_type": "code",
   "execution_count": 25,
   "id": "a38d250d-0abe-4cf3-84f4-d23067d84eb8",
   "metadata": {},
   "outputs": [
    {
     "name": "stdout",
     "output_type": "stream",
     "text": [
      "[[ 145  297]\n",
      " [1378  290]]\n"
     ]
    }
   ],
   "source": [
    "from sklearn.metrics import confusion_matrix\n",
    "confusion_matrix = confusion_matrix(y_pridect, y_test)\n",
    "print(confusion_matrix)"
   ]
  },
  {
   "cell_type": "code",
   "execution_count": null,
   "id": "801ef208-bfb6-4750-9d02-8cb5cc810359",
   "metadata": {},
   "outputs": [],
   "source": []
  },
  {
   "cell_type": "code",
   "execution_count": null,
   "id": "f3b6a15f-6e43-4283-8156-d4d8b48cf8fa",
   "metadata": {},
   "outputs": [],
   "source": []
  }
 ],
 "metadata": {
  "kernelspec": {
   "display_name": "Python 3 (ipykernel)",
   "language": "python",
   "name": "python3"
  },
  "language_info": {
   "codemirror_mode": {
    "name": "ipython",
    "version": 3
   },
   "file_extension": ".py",
   "mimetype": "text/x-python",
   "name": "python",
   "nbconvert_exporter": "python",
   "pygments_lexer": "ipython3",
   "version": "3.9.13"
  }
 },
 "nbformat": 4,
 "nbformat_minor": 5
}
